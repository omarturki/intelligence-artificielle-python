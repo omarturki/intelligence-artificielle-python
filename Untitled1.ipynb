{
  "nbformat": 4,
  "nbformat_minor": 0,
  "metadata": {
    "colab": {
      "name": "Untitled1.ipynb",
      "provenance": [],
      "collapsed_sections": [],
      "authorship_tag": "ABX9TyOM2zXqzcFZDeTAAMYzRX3J",
      "include_colab_link": true
    },
    "kernelspec": {
      "name": "python3",
      "display_name": "Python 3"
    }
  },
  "cells": [
    {
      "cell_type": "markdown",
      "metadata": {
        "id": "view-in-github",
        "colab_type": "text"
      },
      "source": [
        "<a href=\"https://colab.research.google.com/github/omarturki/intelligence-artificielle-python/blob/main/Untitled1.ipynb\" target=\"_parent\"><img src=\"https://colab.research.google.com/assets/colab-badge.svg\" alt=\"Open In Colab\"/></a>"
      ]
    },
    {
      "cell_type": "code",
      "metadata": {
        "colab": {
          "base_uri": "https://localhost:8080/"
        },
        "id": "kXOSGwcZzorf",
        "outputId": "c5240ab5-3dcb-4945-ed88-a99180b36070"
      },
      "source": [
        "from collections import defaultdict\r\n",
        "\r\n",
        "edges = [ \r\n",
        "    ['E1','A'],\r\n",
        "    ['B','A'],\r\n",
        "    ['B', 'C'],\r\n",
        "    ['C','E2'],\r\n",
        "    ['E3','D'],\r\n",
        "    ['D','E'],\r\n",
        "    ['E', 'F'],\r\n",
        "    ['F','G'],\r\n",
        "    ['G','I'],\r\n",
        "    ['G','H'],\r\n",
        "    ['G','I'],\r\n",
        "    ['I','J'],\r\n",
        "    ['J','K'],\r\n",
        "    ['K','L'],\r\n",
        "    ['L', 'M'],\r\n",
        "    ['M','Tresor'],\r\n",
        "    ['H','E4'],\r\n",
        "    ['M','G']\r\n",
        "]\r\n",
        "\r\n",
        "def graph_from_edges(edge):\r\n",
        "    graph = defaultdict(set)\r\n",
        "    for u, v in edges:\r\n",
        "        graph[u].add(v)\r\n",
        "        graph[v].add(u)\r\n",
        "    return graph\r\n",
        "\r\n",
        "graph = graph_from_edges(edges)\r\n",
        "print(graph)"
      ],
      "execution_count": 1,
      "outputs": [
        {
          "output_type": "stream",
          "text": [
            "defaultdict(<class 'set'>, {'E1': {'A'}, 'A': {'B', 'E1'}, 'B': {'C', 'A'}, 'C': {'E2', 'B'}, 'E2': {'C'}, 'E3': {'D'}, 'D': {'E3', 'E'}, 'E': {'D', 'F'}, 'F': {'G', 'E'}, 'G': {'H', 'I', 'M', 'F'}, 'I': {'G', 'J'}, 'H': {'G', 'E4'}, 'J': {'I', 'K'}, 'K': {'L', 'J'}, 'L': {'M', 'K'}, 'M': {'G', 'Tresor', 'L'}, 'Tresor': {'M'}, 'E4': {'H'}})\n"
          ],
          "name": "stdout"
        }
      ]
    },
    {
      "cell_type": "code",
      "metadata": {
        "colab": {
          "base_uri": "https://localhost:8080/"
        },
        "id": "Q4fkYcLfzkPu",
        "outputId": "0917d237-b0b6-4ebb-ef33-6a6b6769151f"
      },
      "source": [
        "def dfs(graph, start, visited=None):\r\n",
        "    if visited is None:\r\n",
        "        visited = set()\r\n",
        "    visited.add(start)\r\n",
        "    for next in graph[start] - visited:\r\n",
        "        dfs(graph, next, visited)\r\n",
        "    return visited\r\n",
        "\r\n",
        "dfs(graph, 'E3') # {'E', 'D', 'F', 'A', 'C', 'B'}"
      ],
      "execution_count": 2,
      "outputs": [
        {
          "output_type": "execute_result",
          "data": {
            "text/plain": [
              "{'D', 'E', 'E3', 'E4', 'F', 'G', 'H', 'I', 'J', 'K', 'L', 'M', 'Tresor'}"
            ]
          },
          "metadata": {
            "tags": []
          },
          "execution_count": 2
        }
      ]
    }
  ]
}